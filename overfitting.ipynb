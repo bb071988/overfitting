{
 "cells": [
  {
   "cell_type": "code",
   "execution_count": 1,
   "metadata": {
    "collapsed": true
   },
   "outputs": [],
   "source": [
    "%matplotlib inline"
   ]
  },
  {
   "cell_type": "markdown",
   "metadata": {
    "collapsed": false
   },
   "source": [
    "\"\"\" Ask Kyle\n",
    "1.  What is the I in the poly_2 model\n",
    "2. Review the summary information from previous exercises and discuss with kyle\"\"\""
   ]
  },
  {
   "cell_type": "code",
   "execution_count": 3,
   "metadata": {
    "collapsed": false
   },
   "outputs": [],
   "source": [
    "import numpy as np\n",
    "import statsmodels.formula.api as smf\n",
    "import pandas as pd\n",
    "import matplotlib.pyplot as plt\n",
    "\n",
    "# Set seed for reproducible results\n",
    "np.random.seed(414)\n",
    "\n",
    "# Gen toy data\n",
    "X = np.linspace(0, 15, 1000)\n",
    "y = 3 * np.sin(X) + np.random.normal(1 + X, .2, 1000)\n",
    "\n",
    "train_X, train_y = X[:700], y[:700]\n",
    "test_X, test_y = X[700:], y[700:]\n",
    "\n",
    "train_df = pd.DataFrame({'X': train_X, 'y': train_y})\n",
    "test_df = pd.DataFrame({'X': test_X, 'y': test_y})\n",
    "\n",
    "# Linear Fit\n",
    "poly_1 = smf.ols(formula='y ~ 1 + X', data=train_df).fit()\n",
    "\n",
    "# Quadratic Fit\n",
    "poly_2 = smf.ols(formula='y ~ 1 + X + I(X**2)', data=train_df).fit()  #AK 1"
   ]
  },
  {
   "cell_type": "code",
   "execution_count": 4,
   "metadata": {
    "collapsed": false
   },
   "outputs": [
    {
     "data": {
      "text/html": [
       "<table class=\"simpletable\">\n",
       "<caption>OLS Regression Results</caption>\n",
       "<tr>\n",
       "  <th>Dep. Variable:</th>            <td>y</td>        <th>  R-squared:         </th> <td>   0.642</td> \n",
       "</tr>\n",
       "<tr>\n",
       "  <th>Model:</th>                   <td>OLS</td>       <th>  Adj. R-squared:    </th> <td>   0.642</td> \n",
       "</tr>\n",
       "<tr>\n",
       "  <th>Method:</th>             <td>Least Squares</td>  <th>  F-statistic:       </th> <td>   1254.</td> \n",
       "</tr>\n",
       "<tr>\n",
       "  <th>Date:</th>             <td>Sat, 05 Nov 2016</td> <th>  Prob (F-statistic):</th> <td>5.52e-158</td>\n",
       "</tr>\n",
       "<tr>\n",
       "  <th>Time:</th>                 <td>06:23:37</td>     <th>  Log-Likelihood:    </th> <td> -1483.4</td> \n",
       "</tr>\n",
       "<tr>\n",
       "  <th>No. Observations:</th>      <td>   700</td>      <th>  AIC:               </th> <td>   2971.</td> \n",
       "</tr>\n",
       "<tr>\n",
       "  <th>Df Residuals:</th>          <td>   698</td>      <th>  BIC:               </th> <td>   2980.</td> \n",
       "</tr>\n",
       "<tr>\n",
       "  <th>Df Model:</th>              <td>     1</td>      <th>                     </th>     <td> </td>    \n",
       "</tr>\n",
       "<tr>\n",
       "  <th>Covariance Type:</th>      <td>nonrobust</td>    <th>                     </th>     <td> </td>    \n",
       "</tr>\n",
       "</table>\n",
       "<table class=\"simpletable\">\n",
       "<tr>\n",
       "      <td></td>         <th>coef</th>     <th>std err</th>      <th>t</th>      <th>P>|t|</th> <th>[95.0% Conf. Int.]</th> \n",
       "</tr>\n",
       "<tr>\n",
       "  <th>Intercept</th> <td>    1.9959</td> <td>    0.152</td> <td>   13.104</td> <td> 0.000</td> <td>    1.697     2.295</td>\n",
       "</tr>\n",
       "<tr>\n",
       "  <th>X</th>         <td>    0.8896</td> <td>    0.025</td> <td>   35.405</td> <td> 0.000</td> <td>    0.840     0.939</td>\n",
       "</tr>\n",
       "</table>\n",
       "<table class=\"simpletable\">\n",
       "<tr>\n",
       "  <th>Omnibus:</th>       <td>701.108</td> <th>  Durbin-Watson:     </th> <td>   0.020</td>\n",
       "</tr>\n",
       "<tr>\n",
       "  <th>Prob(Omnibus):</th> <td> 0.000</td>  <th>  Jarque-Bera (JB):  </th> <td>  52.980</td>\n",
       "</tr>\n",
       "<tr>\n",
       "  <th>Skew:</th>          <td>-0.259</td>  <th>  Prob(JB):          </th> <td>3.13e-12</td>\n",
       "</tr>\n",
       "<tr>\n",
       "  <th>Kurtosis:</th>      <td> 1.756</td>  <th>  Cond. No.          </th> <td>    12.4</td>\n",
       "</tr>\n",
       "</table>"
      ],
      "text/plain": [
       "<class 'statsmodels.iolib.summary.Summary'>\n",
       "\"\"\"\n",
       "                            OLS Regression Results                            \n",
       "==============================================================================\n",
       "Dep. Variable:                      y   R-squared:                       0.642\n",
       "Model:                            OLS   Adj. R-squared:                  0.642\n",
       "Method:                 Least Squares   F-statistic:                     1254.\n",
       "Date:                Sat, 05 Nov 2016   Prob (F-statistic):          5.52e-158\n",
       "Time:                        06:23:37   Log-Likelihood:                -1483.4\n",
       "No. Observations:                 700   AIC:                             2971.\n",
       "Df Residuals:                     698   BIC:                             2980.\n",
       "Df Model:                           1                                         \n",
       "Covariance Type:            nonrobust                                         \n",
       "==============================================================================\n",
       "                 coef    std err          t      P>|t|      [95.0% Conf. Int.]\n",
       "------------------------------------------------------------------------------\n",
       "Intercept      1.9959      0.152     13.104      0.000         1.697     2.295\n",
       "X              0.8896      0.025     35.405      0.000         0.840     0.939\n",
       "==============================================================================\n",
       "Omnibus:                      701.108   Durbin-Watson:                   0.020\n",
       "Prob(Omnibus):                  0.000   Jarque-Bera (JB):               52.980\n",
       "Skew:                          -0.259   Prob(JB):                     3.13e-12\n",
       "Kurtosis:                       1.756   Cond. No.                         12.4\n",
       "==============================================================================\n",
       "\n",
       "Warnings:\n",
       "[1] Standard Errors assume that the covariance matrix of the errors is correctly specified.\n",
       "\"\"\""
      ]
     },
     "execution_count": 4,
     "metadata": {},
     "output_type": "execute_result"
    }
   ],
   "source": [
    "poly_1.summary() #AK 2"
   ]
  },
  {
   "cell_type": "code",
   "execution_count": 5,
   "metadata": {
    "collapsed": false
   },
   "outputs": [
    {
     "data": {
      "text/html": [
       "<table class=\"simpletable\">\n",
       "<caption>OLS Regression Results</caption>\n",
       "<tr>\n",
       "  <th>Dep. Variable:</th>            <td>y</td>        <th>  R-squared:         </th> <td>   0.666</td> \n",
       "</tr>\n",
       "<tr>\n",
       "  <th>Model:</th>                   <td>OLS</td>       <th>  Adj. R-squared:    </th> <td>   0.665</td> \n",
       "</tr>\n",
       "<tr>\n",
       "  <th>Method:</th>             <td>Least Squares</td>  <th>  F-statistic:       </th> <td>   694.4</td> \n",
       "</tr>\n",
       "<tr>\n",
       "  <th>Date:</th>             <td>Sat, 05 Nov 2016</td> <th>  Prob (F-statistic):</th> <td>1.25e-166</td>\n",
       "</tr>\n",
       "<tr>\n",
       "  <th>Time:</th>                 <td>06:23:37</td>     <th>  Log-Likelihood:    </th> <td> -1459.6</td> \n",
       "</tr>\n",
       "<tr>\n",
       "  <th>No. Observations:</th>      <td>   700</td>      <th>  AIC:               </th> <td>   2925.</td> \n",
       "</tr>\n",
       "<tr>\n",
       "  <th>Df Residuals:</th>          <td>   697</td>      <th>  BIC:               </th> <td>   2939.</td> \n",
       "</tr>\n",
       "<tr>\n",
       "  <th>Df Model:</th>              <td>     2</td>      <th>                     </th>     <td> </td>    \n",
       "</tr>\n",
       "<tr>\n",
       "  <th>Covariance Type:</th>      <td>nonrobust</td>    <th>                     </th>     <td> </td>    \n",
       "</tr>\n",
       "</table>\n",
       "<table class=\"simpletable\">\n",
       "<tr>\n",
       "      <td></td>         <th>coef</th>     <th>std err</th>      <th>t</th>      <th>P>|t|</th> <th>[95.0% Conf. Int.]</th> \n",
       "</tr>\n",
       "<tr>\n",
       "  <th>Intercept</th> <td>    3.1458</td> <td>    0.221</td> <td>   14.261</td> <td> 0.000</td> <td>    2.713     3.579</td>\n",
       "</tr>\n",
       "<tr>\n",
       "  <th>X</th>         <td>    0.2313</td> <td>    0.097</td> <td>    2.382</td> <td> 0.017</td> <td>    0.041     0.422</td>\n",
       "</tr>\n",
       "<tr>\n",
       "  <th>I(X ** 2)</th> <td>    0.0627</td> <td>    0.009</td> <td>    7.004</td> <td> 0.000</td> <td>    0.045     0.080</td>\n",
       "</tr>\n",
       "</table>\n",
       "<table class=\"simpletable\">\n",
       "<tr>\n",
       "  <th>Omnibus:</th>       <td>1210.467</td> <th>  Durbin-Watson:     </th> <td>   0.022</td>\n",
       "</tr>\n",
       "<tr>\n",
       "  <th>Prob(Omnibus):</th>  <td> 0.000</td>  <th>  Jarque-Bera (JB):  </th> <td>  49.911</td>\n",
       "</tr>\n",
       "<tr>\n",
       "  <th>Skew:</th>           <td>-0.091</td>  <th>  Prob(JB):          </th> <td>1.45e-11</td>\n",
       "</tr>\n",
       "<tr>\n",
       "  <th>Kurtosis:</th>       <td> 1.705</td>  <th>  Cond. No.          </th> <td>    160.</td>\n",
       "</tr>\n",
       "</table>"
      ],
      "text/plain": [
       "<class 'statsmodels.iolib.summary.Summary'>\n",
       "\"\"\"\n",
       "                            OLS Regression Results                            \n",
       "==============================================================================\n",
       "Dep. Variable:                      y   R-squared:                       0.666\n",
       "Model:                            OLS   Adj. R-squared:                  0.665\n",
       "Method:                 Least Squares   F-statistic:                     694.4\n",
       "Date:                Sat, 05 Nov 2016   Prob (F-statistic):          1.25e-166\n",
       "Time:                        06:23:37   Log-Likelihood:                -1459.6\n",
       "No. Observations:                 700   AIC:                             2925.\n",
       "Df Residuals:                     697   BIC:                             2939.\n",
       "Df Model:                           2                                         \n",
       "Covariance Type:            nonrobust                                         \n",
       "==============================================================================\n",
       "                 coef    std err          t      P>|t|      [95.0% Conf. Int.]\n",
       "------------------------------------------------------------------------------\n",
       "Intercept      3.1458      0.221     14.261      0.000         2.713     3.579\n",
       "X              0.2313      0.097      2.382      0.017         0.041     0.422\n",
       "I(X ** 2)      0.0627      0.009      7.004      0.000         0.045     0.080\n",
       "==============================================================================\n",
       "Omnibus:                     1210.467   Durbin-Watson:                   0.022\n",
       "Prob(Omnibus):                  0.000   Jarque-Bera (JB):               49.911\n",
       "Skew:                          -0.091   Prob(JB):                     1.45e-11\n",
       "Kurtosis:                       1.705   Cond. No.                         160.\n",
       "==============================================================================\n",
       "\n",
       "Warnings:\n",
       "[1] Standard Errors assume that the covariance matrix of the errors is correctly specified.\n",
       "\"\"\""
      ]
     },
     "execution_count": 5,
     "metadata": {},
     "output_type": "execute_result"
    }
   ],
   "source": [
    "poly_2.summary()"
   ]
  },
  {
   "cell_type": "markdown",
   "metadata": {
    "collapsed": false
   },
   "source": [
    "\"\"\"calculated as the mean squared error of the model divided by the mean squared error of the residuals. - f stat is lower for poly_2\n",
    "Would be overfit if it doesn't do well against the test set but is better fit to the training set\n",
    "\"\"\""
   ]
  },
  {
   "cell_type": "code",
   "execution_count": 7,
   "metadata": {
    "collapsed": false
   },
   "outputs": [
    {
     "name": "stdout",
     "output_type": "stream",
     "text": [
      "Mean squared error for poly_1 = 32788.77\n",
      "Mean squared error for poly_2 = 544754.06\n"
     ]
    }
   ],
   "source": [
    "# create a mean squared function\n",
    "\n",
    "def mean_square(test_df, model):\n",
    "    model = model.predict(test_df) # run the df against the model\n",
    "    df_model = pd.DataFrame(data = model) # convert the model results to a dataframe\n",
    "     # calculate the mean squared error\n",
    "    mean_sq_error = (sum(df_model[0] - test_df['y'])**2)\n",
    "    \n",
    "    return(mean_sq_error)\n",
    "    \n",
    "p1 = mean_square(test_df, poly_1)\n",
    "print(\"Mean squared error for poly_1 = {:.2f}\".format(p1))\n",
    "\n",
    "p2 = mean_square(test_df, poly_2)\n",
    "print(\"Mean squared error for poly_2 = {:.2f}\".format(p2))\n"
   ]
  },
  {
   "cell_type": "markdown",
   "metadata": {
    "collapsed": false
   },
   "source": [
    "\"\"\" Mean squared error for the exponential model is greater than for the linear model.  \n",
    "Although the exponential function better fits the training data it is a less accurate predictor future values.\"\"\""
   ]
  },
  {
   "cell_type": "code",
   "execution_count": 10,
   "metadata": {
    "collapsed": false
   },
   "outputs": [
    {
     "data": {
      "text/html": [
       "<div>\n",
       "<table border=\"1\" class=\"dataframe\">\n",
       "  <thead>\n",
       "    <tr style=\"text-align: right;\">\n",
       "      <th></th>\n",
       "      <th>X</th>\n",
       "      <th>y</th>\n",
       "    </tr>\n",
       "  </thead>\n",
       "  <tbody>\n",
       "    <tr>\n",
       "      <th>0</th>\n",
       "      <td>10.510511</td>\n",
       "      <td>9.113557</td>\n",
       "    </tr>\n",
       "    <tr>\n",
       "      <th>1</th>\n",
       "      <td>10.525526</td>\n",
       "      <td>8.798065</td>\n",
       "    </tr>\n",
       "    <tr>\n",
       "      <th>2</th>\n",
       "      <td>10.540541</td>\n",
       "      <td>8.931348</td>\n",
       "    </tr>\n",
       "    <tr>\n",
       "      <th>3</th>\n",
       "      <td>10.555556</td>\n",
       "      <td>9.047734</td>\n",
       "    </tr>\n",
       "    <tr>\n",
       "      <th>4</th>\n",
       "      <td>10.570571</td>\n",
       "      <td>8.659095</td>\n",
       "    </tr>\n",
       "  </tbody>\n",
       "</table>\n",
       "</div>"
      ],
      "text/plain": [
       "           X         y\n",
       "0  10.510511  9.113557\n",
       "1  10.525526  8.798065\n",
       "2  10.540541  8.931348\n",
       "3  10.555556  9.047734\n",
       "4  10.570571  8.659095"
      ]
     },
     "execution_count": 10,
     "metadata": {},
     "output_type": "execute_result"
    }
   ],
   "source": [
    "test_df.head()\n"
   ]
  },
  {
   "cell_type": "code",
   "execution_count": 11,
   "metadata": {
    "collapsed": false
   },
   "outputs": [
    {
     "data": {
      "image/png": "[encoded data removed]",
      "text/plain": [
       "<matplotlib.figure.Figure at 0x1993f9e8>"
      ]
     },
     "metadata": {},
     "output_type": "display_data"
    }
   ],
   "source": [
    "# Graphs of test data X\n",
    "\n",
    "plt.figure()\n",
    "p = test_df['X'].hist()\n",
    "plt.show()\n",
    "\n"
   ]
  },
  {
   "cell_type": "code",
   "execution_count": 12,
   "metadata": {
    "collapsed": false
   },
   "outputs": [
    {
     "data": {
      "image/png": "[encoded data removed]",
      "text/plain": [
       "<matplotlib.figure.Figure at 0x199cb4a8>"
      ]
     },
     "metadata": {},
     "output_type": "display_data"
    }
   ],
   "source": [
    "# Graphs of test data X\n",
    "\n",
    "plt.figure()\n",
    "p = test_df['y'].hist()\n",
    "plt.show()"
   ]
  },
  {
   "cell_type": "code",
   "execution_count": 13,
   "metadata": {
    "collapsed": false
   },
   "outputs": [
    {
     "data": {
      "image/png": "[encoded data removed]",
      "text/plain": [
       "<matplotlib.figure.Figure at 0x1a68b4a8>"
      ]
     },
     "metadata": {},
     "output_type": "display_data"
    }
   ],
   "source": [
    "# scatter plot\n",
    "\n",
    "a = pd.scatter_matrix(test_df, alpha=0.05, figsize=(10,10))"
   ]
  },
  {
   "cell_type": "code",
   "execution_count": 14,
   "metadata": {
    "collapsed": false
   },
   "outputs": [
    {
     "data": {
      "image/png": "[encoded data removed]",
      "text/plain": [
       "<matplotlib.figure.Figure at 0x1ad2c668>"
      ]
     },
     "metadata": {},
     "output_type": "display_data"
    }
   ],
   "source": [
    "test_df.plot.scatter(x='X', y='y');"
   ]
  },
  {
   "cell_type": "code",
   "execution_count": 15,
   "metadata": {
    "collapsed": false
   },
   "outputs": [
    {
     "data": {
      "text/html": [
       "<div>\n",
       "<table border=\"1\" class=\"dataframe\">\n",
       "  <thead>\n",
       "    <tr style=\"text-align: right;\">\n",
       "      <th></th>\n",
       "      <th>X</th>\n",
       "      <th>y</th>\n",
       "    </tr>\n",
       "  </thead>\n",
       "  <tbody>\n",
       "    <tr>\n",
       "      <th>X</th>\n",
       "      <td>1.000000</td>\n",
       "      <td>0.978523</td>\n",
       "    </tr>\n",
       "    <tr>\n",
       "      <th>y</th>\n",
       "      <td>0.978523</td>\n",
       "      <td>1.000000</td>\n",
       "    </tr>\n",
       "  </tbody>\n",
       "</table>\n",
       "</div>"
      ],
      "text/plain": [
       "          X         y\n",
       "X  1.000000  0.978523\n",
       "y  0.978523  1.000000"
      ]
     },
     "execution_count": 15,
     "metadata": {},
     "output_type": "execute_result"
    }
   ],
   "source": [
    "# correlation matrix in pandas\n",
    "test_df.corr()"
   ]
  },
  {
   "cell_type": "code",
   "execution_count": null,
   "metadata": {
    "collapsed": true
   },
   "outputs": [],
   "source": []
  }
 ],
 "metadata": {
  "kernelspec": {
   "display_name": "Python 2",
   "language": "python",
   "name": "python2"
  },
  "language_info": {
   "codemirror_mode": {
    "name": "ipython",
    "version": 2
   },
   "file_extension": ".py",
   "mimetype": "text/x-python",
   "name": "python",
   "nbconvert_exporter": "python",
   "pygments_lexer": "ipython2",
   "version": "2.7.11"
  }
 },
 "nbformat": 4,
 "nbformat_minor": 0
}
